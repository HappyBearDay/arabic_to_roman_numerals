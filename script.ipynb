{
 "cells": [
  {
   "cell_type": "markdown",
   "metadata": {},
   "source": [
    "# TDD introduction  \n",
    "\n",
    "Méthode incrémentale de deux étapes :\n",
    " - Ajout d'un à 3 tests \n",
    " - Refactoring"
   ]
  },
  {
   "cell_type": "code",
   "execution_count": 140,
   "metadata": {},
   "outputs": [],
   "source": [
    "import unittest"
   ]
  },
  {
   "cell_type": "markdown",
   "metadata": {},
   "source": [
    "https://www.calculateme.com/roman-numerals/to-roman"
   ]
  },
  {
   "cell_type": "code",
   "execution_count": 217,
   "metadata": {},
   "outputs": [],
   "source": [
    "class Test_convecter(unittest.TestCase):\n",
    "    \n",
    "    #Programmation par intention\n",
    "    def test_1(self):\n",
    "        self.assertEqual(get_roman_numeral(1) , \"I\")\n",
    "        \n",
    "    def test_2(self):\n",
    "        self.assertEqual(get_roman_numeral(2) , \"II\")\n",
    "\n",
    "    def test_4(self):\n",
    "        self.assertEqual(get_roman_numeral(4) , \"IV\")\n",
    "\n",
    "    def test_5(self):\n",
    "        self.assertEqual(get_roman_numeral(5) , \"V\")\n",
    "\n",
    "    def test_6(self):\n",
    "        self.assertEqual(get_roman_numeral(6) , \"VI\")\n",
    "    \n",
    "    def test_7(self):\n",
    "        self.assertEqual(get_roman_numeral(7) , \"VII\")\n",
    "    \n",
    "    def test_9(self):\n",
    "        self.assertEqual(get_roman_numeral(9) , \"IX\")\n",
    "\n",
    "    def test_10(self):\n",
    "        self.assertEqual(get_roman_numeral(10) , \"X\")\n",
    "\n",
    "    def test_11(self):\n",
    "        self.assertEqual(get_roman_numeral(11) , \"XI\")\n",
    "\n",
    "    def test_13(self):\n",
    "        self.assertEqual(get_roman_numeral(13) , \"XIII\")\n",
    "\n",
    "    def test_14(self):\n",
    "        self.assertEqual(get_roman_numeral(14) , \"XIV\")\n",
    "\n",
    "    def test_15(self):\n",
    "        self.assertEqual(get_roman_numeral(15) , \"XV\")\n",
    "\n",
    "    def test_17(self):\n",
    "        self.assertEqual(get_roman_numeral(17) , \"XVII\")\n",
    "    \n",
    "    def test_19(self):\n",
    "        self.assertEqual(get_roman_numeral(19) , \"XIX\")\n",
    "    \n",
    "    def test_20(self):\n",
    "        self.assertEqual(get_roman_numeral(20) , \"XX\")\n",
    "\n",
    "    def test_22(self):\n",
    "        self.assertEqual(get_roman_numeral(22) , \"XXII\")\n",
    "    \n",
    "    def test_24(self):\n",
    "        self.assertEqual(get_roman_numeral(24) , \"XXIV\")\n",
    "    \n",
    "    def test_25(self):\n",
    "        self.assertEqual(get_roman_numeral(25), \"XXV\")\n",
    "    \n",
    "    def test_27(self):\n",
    "        self.assertEqual(get_roman_numeral(27), \"XXVII\")\n",
    "        \n",
    "    def test_29(self):\n",
    "        self.assertEqual(get_roman_numeral(29), \"XXIX\")\n",
    "    \n",
    "    \n",
    "    def test_30(self):\n",
    "        self.assertEqual(get_roman_numeral(30) , \"XXX\")\n",
    "        \n",
    "    def test_31(self):\n",
    "        self.assertEqual(get_roman_numeral(31) , \"XXXI\")\n",
    "\n",
    "    def test_36(self):\n",
    "        self.assertEqual(get_roman_numeral(36) , \"XXXVI\")\n",
    "\n",
    "    def test_40(self):\n",
    "        self.assertEqual(get_roman_numeral(40) , \"XL\")\n",
    "    \n",
    "    def test_45(self):\n",
    "        self.assertEqual(get_roman_numeral(45) , \"XLV\")\n",
    "    \n",
    "    def test_50(self):\n",
    "        self.assertEqual(get_roman_numeral(50) , \"L\")\n",
    "    "
   ]
  },
  {
   "cell_type": "code",
   "execution_count": 218,
   "metadata": {},
   "outputs": [
    {
     "name": "stderr",
     "output_type": "stream",
     "text": [
      "..........................\n",
      "----------------------------------------------------------------------\n",
      "Ran 26 tests in 0.022s\n",
      "\n",
      "OK\n"
     ]
    },
    {
     "data": {
      "text/plain": [
       "<unittest.main.TestProgram at 0x7f96d01947b8>"
      ]
     },
     "execution_count": 218,
     "metadata": {},
     "output_type": "execute_result"
    }
   ],
   "source": [
    "unittest.main(argv=['first-arg-is-ignored'], exit=False)"
   ]
  },
  {
   "cell_type": "code",
   "execution_count": null,
   "metadata": {},
   "outputs": [],
   "source": []
  },
  {
   "cell_type": "code",
   "execution_count": null,
   "metadata": {},
   "outputs": [],
   "source": []
  },
  {
   "cell_type": "code",
   "execution_count": 219,
   "metadata": {},
   "outputs": [],
   "source": [
    "def sub_process(curr_roman_numeral, value, symbole, curr_n):\n",
    "    quotient = curr_n // value\n",
    "    curr_roman_numeral += symbole * quotient\n",
    "    curr_n -= quotient * value\n",
    "    return curr_roman_numeral, curr_n"
   ]
  },
  {
   "cell_type": "code",
   "execution_count": 220,
   "metadata": {},
   "outputs": [],
   "source": [
    "def get_roman_numeral(n):\n",
    "    \n",
    "    roman_numeral = \"\"\n",
    "    \n",
    "    list_sym = [ [\"L\", 50],[\"XL\", 40] ,[\"X\", 10], [\"IX\", 9] , [\"V\", 5] , [\"IV\", 4], [\"I\", 1 ] ]\n",
    "    \n",
    "    for curr_symb, curr_value in list_sym:\n",
    "        roman_numeral, n = sub_process(curr_roman_numeral = roman_numeral,\n",
    "                                      value = curr_value, \n",
    "                                      symbole = curr_symb, \n",
    "                                      curr_n = n)\n",
    "    return roman_numeral"
   ]
  },
  {
   "cell_type": "code",
   "execution_count": null,
   "metadata": {},
   "outputs": [],
   "source": []
  },
  {
   "cell_type": "code",
   "execution_count": null,
   "metadata": {},
   "outputs": [],
   "source": []
  },
  {
   "cell_type": "code",
   "execution_count": null,
   "metadata": {},
   "outputs": [],
   "source": []
  },
  {
   "cell_type": "code",
   "execution_count": null,
   "metadata": {},
   "outputs": [],
   "source": []
  },
  {
   "cell_type": "code",
   "execution_count": null,
   "metadata": {},
   "outputs": [],
   "source": []
  },
  {
   "cell_type": "code",
   "execution_count": null,
   "metadata": {},
   "outputs": [],
   "source": []
  },
  {
   "cell_type": "code",
   "execution_count": null,
   "metadata": {},
   "outputs": [],
   "source": []
  },
  {
   "cell_type": "code",
   "execution_count": null,
   "metadata": {},
   "outputs": [],
   "source": []
  },
  {
   "cell_type": "code",
   "execution_count": null,
   "metadata": {},
   "outputs": [],
   "source": []
  }
 ],
 "metadata": {
  "kernelspec": {
   "display_name": "Python 3",
   "language": "python",
   "name": "python3"
  },
  "language_info": {
   "codemirror_mode": {
    "name": "ipython",
    "version": 3
   },
   "file_extension": ".py",
   "mimetype": "text/x-python",
   "name": "python",
   "nbconvert_exporter": "python",
   "pygments_lexer": "ipython3",
   "version": "3.6.8"
  }
 },
 "nbformat": 4,
 "nbformat_minor": 2
}
